{
 "cells": [
  {
   "cell_type": "raw",
   "id": "69c5a1ca-1605-4339-baed-2e42b0e9f059",
   "metadata": {},
   "source": [
    "1. What are the five key concepts of Object-Oriented Programming (OOP)?\n",
    "\n",
    "ans- The five key concepts of OOP are :- classes and objects, encapsulation, inheritence, abstraction & polymorphism."
   ]
  },
  {
   "cell_type": "code",
   "execution_count": 1,
   "id": "c1a3c2ae-338f-4ede-a7fb-3f304cce1fe5",
   "metadata": {},
   "outputs": [],
   "source": [
    "#2. Write a Python class for a `Car` with attributes for `make`, `model`, and `year`. Include a method to display the car's information.\n",
    "\n",
    "class Car:\n",
    "    def __init__(self, make, model, year):\n",
    "        self.make = make\n",
    "        self.model = model\n",
    "        self.year = year\n",
    "        print(self.make,self.model, self.year)"
   ]
  },
  {
   "cell_type": "code",
   "execution_count": 2,
   "id": "56b96c18-57cd-4499-a381-e7b6f3f64bac",
   "metadata": {},
   "outputs": [
    {
     "name": "stdout",
     "output_type": "stream",
     "text": [
      "Toyota Corolla 2020\n"
     ]
    }
   ],
   "source": [
    "mycar = Car(\"Toyota\", \"Corolla\", 2020)"
   ]
  },
  {
   "cell_type": "raw",
   "id": "f51f7104-4d85-4183-bcaf-3a26b432ec98",
   "metadata": {},
   "source": [
    "3. Explain the difference between instance methods and class methods. Provide an example of each.\n",
    "\n",
    "Ans- Instance Methods: Require an instance of the class to be called. They work with object-level data.\n",
    "\n",
    "Class Methods: Are called on the class itself and usually deal with class-level data. They are marked with the @classmethod decorator."
   ]
  },
  {
   "cell_type": "code",
   "execution_count": 3,
   "id": "e9b50912-bf3b-4a6e-8753-1416d1bb272a",
   "metadata": {},
   "outputs": [],
   "source": [
    "#example instance method\n",
    "class MyClass:\n",
    "    def instance_method(self):\n",
    "        return \"Instance Method\"\n"
   ]
  },
  {
   "cell_type": "code",
   "execution_count": 5,
   "id": "66a9f718-81b6-4cc9-a5ef-5da847b927df",
   "metadata": {},
   "outputs": [],
   "source": [
    "##example class method\n",
    "class MyClass:\n",
    "    @classmethod\n",
    "    def class_method(cls):\n",
    "        return \"Class Method\"\n"
   ]
  },
  {
   "cell_type": "raw",
   "id": "676b5ee5-b9d9-4f42-a2ac-c9630ed7c2c5",
   "metadata": {},
   "source": [
    "4. How does Python implement method overloading? Give an example.\n",
    "\n",
    "ans-Python does not support traditional method overloading (i.e., multiple methods with the same name but different parameters).  "
   ]
  },
  {
   "cell_type": "raw",
   "id": "4f6281a5-f4f0-4d98-9849-95a7cb2cb50d",
   "metadata": {},
   "source": [
    "5. What are the three types of access modifiers in Python? How are they denoted?\n",
    "\n",
    "ans- Public: Attributes and methods accessible from anywhere. No underscore prefix (e.g., var).\n",
    "    \n",
    "    Protected: Attributes and methods intended for internal use within a class or subclass. Denoted by a single underscore (e.g., _var).\n",
    "\n",
    "    Private: Attributes and methods not accessible outside the class. Denoted by double underscores (e.g., __var).\n"
   ]
  },
  {
   "cell_type": "raw",
   "id": "fbf0649d-217f-4e99-a6c8-89980e3d26ae",
   "metadata": {},
   "source": [
    "6. Describe the five types of inheritance in Python. Provide a simple example of multiple inheritance.\n",
    "\n",
    "Ans- Single Inheritance: A class inherits from one superclass.\n",
    "\n",
    "Multiple Inheritance: A class inherits from more than one superclass.\n",
    "\n",
    "Multilevel Inheritance: A class inherits from a class which in turn inherits from another class.\n",
    "\n",
    "Hierarchical Inheritance: Multiple classes inherit from the same superclass.\n",
    "\n",
    "Hybrid Inheritance: A combination of two or more types of inheritance."
   ]
  },
  {
   "cell_type": "code",
   "execution_count": 8,
   "id": "b50df5f7-f41c-4955-be43-b99eb7936b83",
   "metadata": {},
   "outputs": [],
   "source": [
    "#example of inheritance\n",
    "\n",
    "class Grandfather:\n",
    "    def propertyG(self):\n",
    "        print(\"I have my own property\")\n",
    "\n",
    "class Father(Grandfather):\n",
    "    def propertyF(self):\n",
    "        print(\"I have my own property and grandfather's property\")\n",
    "\n",
    "class Son(Father):\n",
    "    def propertyS(self):\n",
    "        print(\"I have mine, father's and grandfather's property\")"
   ]
  },
  {
   "cell_type": "code",
   "execution_count": 11,
   "id": "e58e5b4b-92e5-4d36-8ec5-116d6b414ced",
   "metadata": {},
   "outputs": [
    {
     "name": "stdout",
     "output_type": "stream",
     "text": [
      "I have mine, father's and grandfather's property\n"
     ]
    }
   ],
   "source": [
    "son = Son()\n",
    "son.propertyS()"
   ]
  },
  {
   "cell_type": "raw",
   "id": "f082354a-e4d6-463b-b750-a3c4edea93d3",
   "metadata": {},
   "source": [
    "7. What is the Method Resolution Order (MRO) in Python? How can you retrieve it programmatically?\n",
    "\n",
    "ans-The Method Resolution Order (MRO) determines the order in which methods are inherited from superclasses in multiple inheritance. Python uses the C3 linearization algorithm to determine the MRO.\n",
    "You can retrieve the MRO programmatically using the __mro__ attribute or the mro() method."
   ]
  },
  {
   "cell_type": "code",
   "execution_count": 12,
   "id": "574eccba-68f4-4f96-b4a1-9578cb08bd69",
   "metadata": {},
   "outputs": [
    {
     "name": "stdout",
     "output_type": "stream",
     "text": [
      "(<class '__main__.C'>, <class '__main__.B'>, <class '__main__.A'>, <class 'object'>)\n"
     ]
    }
   ],
   "source": [
    "class A: pass\n",
    "class B(A): pass\n",
    "class C(B): pass\n",
    "\n",
    "print(C.__mro__)"
   ]
  },
  {
   "cell_type": "code",
   "execution_count": 40,
   "id": "df06b95b-f64f-4f8b-ae8e-93d5303d7c2e",
   "metadata": {},
   "outputs": [],
   "source": [
    "#8. Create an abstract base class `Shape` with an abstract method `area()`. Then create two subclasses `Circle` and `Rectangle` that implement the `area()` method.\n",
    "\n",
    "from abc import ABC, abstractmethod\n",
    "\n",
    "class Shape(ABC):\n",
    "    @abstractmethod\n",
    "    def area(self):\n",
    "        pass\n",
    "\n",
    "class Circle(Shape):\n",
    "    def __init__(self, radius):\n",
    "        self.radius = radius\n",
    "       \n",
    "    \n",
    "    def area(self):\n",
    "        return 3.14 * self.radius * self.radius\n",
    "            \n",
    "\n",
    "class Rectangle(Shape):\n",
    "    def __init__(self, width, height):\n",
    "        self.width = width\n",
    "        self.height = height\n",
    "    \n",
    "    def area(self):\n",
    "        return self.width * self.height\n",
    "\n"
   ]
  },
  {
   "cell_type": "code",
   "execution_count": 44,
   "id": "09a94313-2ba9-40cd-8ed6-067bd4d6b5da",
   "metadata": {},
   "outputs": [
    {
     "name": "stdout",
     "output_type": "stream",
     "text": [
      "Circle area: 314.0\n",
      "rectangle area: 12\n"
     ]
    }
   ],
   "source": [
    "circle = Circle(10)\n",
    "print(f\"Circle area: {circle.area()}\")\n",
    "rectangle = Rectangle(2,6)\n",
    "print(f\"rectangle area: {rectangle.area()}\")"
   ]
  },
  {
   "cell_type": "code",
   "execution_count": 47,
   "id": "8ab894e8-26f2-4f2c-a32d-0d14036994df",
   "metadata": {},
   "outputs": [],
   "source": [
    "# 9. Demonstrate polymorphism by creating a function that can work with different shape objects to calculate  and print their areas.\n",
    "\n",
    "def print_area(shape):\n",
    "    print(f\"The area is: {shape.area()}\")\n"
   ]
  },
  {
   "cell_type": "code",
   "execution_count": 51,
   "id": "e398e54e-9d7f-4dd5-81e9-2e75d58993de",
   "metadata": {},
   "outputs": [
    {
     "name": "stdout",
     "output_type": "stream",
     "text": [
      "The area is: 78.5\n",
      "The area is: 78.5\n"
     ]
    }
   ],
   "source": [
    "circle = Circle(5)\n",
    "print_area(circle)\n",
    "rectangle = Rectangle(4,5)\n",
    "print_area(rectangle)"
   ]
  },
  {
   "cell_type": "code",
   "execution_count": 52,
   "id": "1e0759b6-68bf-42ce-9f1e-f91486005bbb",
   "metadata": {},
   "outputs": [],
   "source": [
    "# 10. Implement encapsulation in a `BankAccount` class with private attributes for `balance` and `account_number`. Include methods for deposit, withdrawal, and balance inquiry.\n",
    "\n",
    "class BankAccount:\n",
    "    def __init__(self, account_number, initial_balance=0):\n",
    "        self.__account_number = account_number\n",
    "        self.__balance = initial_balance\n",
    "    \n",
    "    def deposit(self, amount):\n",
    "        if amount > 0:\n",
    "            self.__balance += amount\n",
    "        return self.__balance\n",
    "    \n",
    "    def withdraw(self, amount):\n",
    "        if 0 < amount <= self.__balance:\n",
    "            self.__balance -= amount\n",
    "        return self.__balance\n",
    "    \n",
    "    def get_balance(self):\n",
    "        return self.__balance\n",
    "\n"
   ]
  },
  {
   "cell_type": "code",
   "execution_count": 53,
   "id": "8ad43bbd-8e91-4b05-9304-1e811ecf0191",
   "metadata": {},
   "outputs": [
    {
     "name": "stdout",
     "output_type": "stream",
     "text": [
      "400\n"
     ]
    }
   ],
   "source": [
    "account = BankAccount(\"123456\")\n",
    "account.deposit(500)\n",
    "account.withdraw(100)\n",
    "print(account.get_balance())"
   ]
  },
  {
   "cell_type": "code",
   "execution_count": 55,
   "id": "482af554-f197-4d39-a321-71ba67f93789",
   "metadata": {},
   "outputs": [],
   "source": [
    "# 11. Write a class that overrides the `__str__` and `__add__` magic methods. What will these methods allow you to do?\n",
    "\n",
    "class Number:\n",
    "    def __init__(self, value):\n",
    "        self.value = value\n",
    "\n",
    "    # Override __str__ method\n",
    "    def __str__(self):\n",
    "        return f\"Number: {self.value}\"\n",
    "\n",
    "    # Override __add__ method\n",
    "    def __add__(self, other):\n",
    "        if isinstance(other, Number):\n",
    "            return Number(self.value + other.value)\n",
    "        return NotImplemented\n"
   ]
  },
  {
   "cell_type": "code",
   "execution_count": 56,
   "id": "df7e57a1-425b-4d6b-a604-baf6a692ae8c",
   "metadata": {},
   "outputs": [
    {
     "name": "stdout",
     "output_type": "stream",
     "text": [
      "Number: 10\n",
      "Number: 30\n"
     ]
    }
   ],
   "source": [
    "num1 = Number(10)\n",
    "num2 = Number(20)\n",
    "print(num1)\n",
    "result = num1 + num2\n",
    "print(result) "
   ]
  },
  {
   "cell_type": "code",
   "execution_count": 57,
   "id": "d2143649-0525-4136-ba19-9b0b13a56561",
   "metadata": {},
   "outputs": [
    {
     "name": "stdout",
     "output_type": "stream",
     "text": [
      "Function 'long_running_task' took 2.0007 seconds to execute.\n"
     ]
    },
    {
     "data": {
      "text/plain": [
       "'Task completed'"
      ]
     },
     "execution_count": 57,
     "metadata": {},
     "output_type": "execute_result"
    }
   ],
   "source": [
    "# 12. Create a decorator that measures and prints the execution time of a function.\n",
    "\n",
    "import time\n",
    "\n",
    "def time_it(func):\n",
    "    def wrapper(*args, **kwargs):\n",
    "        start = time.time()\n",
    "        result = func(*args, **kwargs)\n",
    "        end = time.time()\n",
    "        print(f\"Function '{func.__name__}' took {end - start:.4f} seconds to execute.\")\n",
    "        return result\n",
    "    return wrapper\n",
    "\n",
    "\n",
    "@time_it\n",
    "def long_running_task():\n",
    "    time.sleep(2)  # Simulating a long-running task\n",
    "    return \"Task completed\"\n",
    "\n",
    "\n",
    "long_running_task()\n"
   ]
  },
  {
   "cell_type": "raw",
   "id": "f6b2b1df-a38b-44f6-81a9-eb8c3e67c7f7",
   "metadata": {},
   "source": [
    "13. Explain the concept of the Diamond Problem in multiple inheritance. How does Python resolve it?\n",
    "\n",
    "Ans-The Diamond Problem occurs in multiple inheritance when a class inherits from two classes that both inherit from a common superclass. This can create ambiguity about which superclass method should be called.\n",
    "\n",
    "Python resolves this problem using the Method Resolution Order (MRO), which is determined by the C3 linearization algorithm. Python follows the MRO to decide which method to call in cases of multiple inheritance."
   ]
  },
  {
   "cell_type": "code",
   "execution_count": 58,
   "id": "a29ff46f-be80-4f64-bd4a-89f448434e84",
   "metadata": {},
   "outputs": [],
   "source": [
    "# 14. Write a class method that keeps track of the number of instances created from a class.\n",
    "\n",
    "class MyClass:\n",
    "    instance_count = 0\n",
    "\n",
    "    def __init__(self):\n",
    "        MyClass.instance_count += 1\n",
    "\n",
    "    @classmethod\n",
    "    def get_instance_count(cls):\n",
    "        return cls.instance_count\n"
   ]
  },
  {
   "cell_type": "code",
   "execution_count": 59,
   "id": "0437bd0c-1361-46ce-833f-f96b15bb99ce",
   "metadata": {},
   "outputs": [
    {
     "name": "stdout",
     "output_type": "stream",
     "text": [
      "3\n"
     ]
    }
   ],
   "source": [
    "a = MyClass()\n",
    "b = MyClass()\n",
    "c = MyClass()\n",
    "print(MyClass.get_instance_count()) \n"
   ]
  },
  {
   "cell_type": "code",
   "execution_count": 61,
   "id": "8d2893bc-d27c-4669-8fbd-640889a4b439",
   "metadata": {},
   "outputs": [],
   "source": [
    "#15. Implement a static method in a class that checks if a given year is a leap year.\n",
    "\n",
    "class Year:\n",
    "    @staticmethod\n",
    "    def is_leap_year(year):\n",
    "        if (year % 4 == 0 and year % 100 != 0) or (year % 400 == 0):\n",
    "            return True\n",
    "        return False"
   ]
  },
  {
   "cell_type": "code",
   "execution_count": 62,
   "id": "8b0cf429-9ac4-4c79-8b4c-6c340dcaafea",
   "metadata": {},
   "outputs": [
    {
     "name": "stdout",
     "output_type": "stream",
     "text": [
      "True\n",
      "False\n"
     ]
    }
   ],
   "source": [
    "print(Year.is_leap_year(2020))  \n",
    "print(Year.is_leap_year(2023))  "
   ]
  },
  {
   "cell_type": "code",
   "execution_count": null,
   "id": "0564c2f2-98c2-4d7a-a950-2fa33b746176",
   "metadata": {},
   "outputs": [],
   "source": []
  }
 ],
 "metadata": {
  "kernelspec": {
   "display_name": "Python 3 (ipykernel)",
   "language": "python",
   "name": "python3"
  },
  "language_info": {
   "codemirror_mode": {
    "name": "ipython",
    "version": 3
   },
   "file_extension": ".py",
   "mimetype": "text/x-python",
   "name": "python",
   "nbconvert_exporter": "python",
   "pygments_lexer": "ipython3",
   "version": "3.12.6"
  }
 },
 "nbformat": 4,
 "nbformat_minor": 5
}
